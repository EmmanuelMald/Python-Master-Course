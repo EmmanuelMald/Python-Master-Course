{
 "cells": [
  {
   "cell_type": "markdown",
   "metadata": {},
   "source": [
    "## Ejemplo de cabecera\n",
    "Intenta deducir qué hace este programa (no hace falta que le des muchas vueltas)."
   ]
  },
  {
   "cell_type": "code",
   "execution_count": 3,
   "metadata": {},
   "outputs": [
    {
     "name": "stdout",
     "output_type": "stream",
     "text": [
      "0 es un número 0 par\n",
      "1 es un número impar\n",
      "2 es un número 2 par\n",
      "3 es un número impar\n",
      "4 es un número 4 par\n",
      "5 es un número impar\n",
      "6 es un número 6 par\n",
      "7 es un número impar\n",
      "8 es un número 8 par\n",
      "9 es un número impar\n"
     ]
    }
   ],
   "source": [
    "n = 0 #cosas que notar, ya no es necesario el punto y coma, el while no utiliza llaves, solo dos puntos\n",
    "while n < 10:  # while = mientras\n",
    "    if (n % 2) == 0: # if = si (de condicion)\n",
    "        print(n,'es un número par') #la variable a mostrar se agrega al principio o al final, o en el lugar que quieres que vaya\n",
    "    else:  # else = sino (def condicion) ya no es necesario poner %d, sino directamente la variable <3, se siguen separando por comas\n",
    "        print(n,'es un número impar')# para poner texto es con comillas simples\n",
    "    n = n + 1"
   ]
  },
  {
   "cell_type": "code",
   "execution_count": null,
   "metadata": {},
   "outputs": [],
   "source": []
  }
 ],
 "metadata": {
  "kernelspec": {
   "display_name": "Python 3",
   "language": "python",
   "name": "python3"
  },
  "language_info": {
   "codemirror_mode": {
    "name": "ipython",
    "version": 3
   },
   "file_extension": ".py",
   "mimetype": "text/x-python",
   "name": "python",
   "nbconvert_exporter": "python",
   "pygments_lexer": "ipython3",
   "version": "3.7.4"
  }
 },
 "nbformat": 4,
 "nbformat_minor": 1
}
