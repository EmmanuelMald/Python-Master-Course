{
 "cells": [
  {
   "attachments": {},
   "cell_type": "markdown",
   "metadata": {},
   "source": [
    "## Try to figure out what the code does"
   ]
  },
  {
   "cell_type": "code",
   "execution_count": 2,
   "metadata": {},
   "outputs": [
    {
     "name": "stdout",
     "output_type": "stream",
     "text": [
      "0 es un número par\n",
      "1 es un número impar\n",
      "2 es un número par\n",
      "3 es un número impar\n",
      "4 es un número par\n",
      "5 es un número impar\n",
      "6 es un número par\n",
      "7 es un número impar\n",
      "8 es un número par\n",
      "9 es un número impar\n"
     ]
    }
   ],
   "source": [
    "\"\"\"\n",
    "NOTES\n",
    "1.-  ; It is not necessary\n",
    "2.-  While does not uses (), just :\n",
    "\n",
    "The code returns if  numbers 0 - 9 is an even or an odd number\n",
    "\"\"\"\n",
    "\n",
    "n = 0 #cosas que notar, ya no es necesario el punto y coma, el while no utiliza llaves, solo dos puntos\n",
    "while n < 10:  \n",
    "    if (n % 2) == 0: # if the remainder is zero, then print that is an even number, if not, print is an odd number\n",
    "        print(f'{n} es un número par') \n",
    "    else: \n",
    "        print(f'{n} es un número impar')# para poner texto es con comillas simples\n",
    "    n += 1"
   ]
  }
 ],
 "metadata": {
  "kernelspec": {
   "display_name": "Python 3",
   "language": "python",
   "name": "python3"
  },
  "language_info": {
   "codemirror_mode": {
    "name": "ipython",
    "version": 3
   },
   "file_extension": ".py",
   "mimetype": "text/x-python",
   "name": "python",
   "nbconvert_exporter": "python",
   "pygments_lexer": "ipython3",
   "version": "3.11.2"
  }
 },
 "nbformat": 4,
 "nbformat_minor": 1
}
